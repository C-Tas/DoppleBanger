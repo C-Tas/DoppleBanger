{
 "cells": [
  {
   "cell_type": "markdown",
   "id": "ae52e92c",
   "metadata": {},
   "source": [
    "# PROGRAMA PARA CALCULAR LAS MÉTRICAS A PARTIR DE UN JSON"
   ]
  },
  {
   "cell_type": "code",
   "execution_count": 82,
   "id": "f804e09a",
   "metadata": {},
   "outputs": [],
   "source": [
    "import json\n",
    "import os\n",
    "import datetime "
   ]
  },
  {
   "cell_type": "code",
   "execution_count": 35,
   "id": "3dc38db9",
   "metadata": {},
   "outputs": [],
   "source": [
    "dirNames = ['Login', 'Logout', 'LoginZone', 'LogoutZone', 'OpenChest', 'OpenInv', 'OpenShop', 'OpenSkills', 'TutoTask', 'UsePot', 'UseSkill']"
   ]
  },
  {
   "cell_type": "markdown",
   "id": "1828ff44",
   "metadata": {},
   "source": [
    "### Comprobación de los eventos"
   ]
  },
  {
   "cell_type": "code",
   "execution_count": 64,
   "id": "64702e5f",
   "metadata": {},
   "outputs": [],
   "source": [
    "def getEventsFromPlayer(player):\n",
    "    initial_count = 0\n",
    "    \n",
    "    dict_JSONS = {\n",
    "        \"Login\": [],\n",
    "        \"Logout\": [],\n",
    "        \"LoginZone\": [],\n",
    "        \"LogoutZone\": [],\n",
    "        \"OpenChest\": [],\n",
    "        \"OpenInv\": [],\n",
    "        \"OpenShop\": [],\n",
    "        \"OpenSkills\": [],\n",
    "        \"TutoTask\": [],\n",
    "        \"UsePot\": [],\n",
    "        \"UseSkill\": [],\n",
    "    }\n",
    "    \n",
    "    for directory in dirNames:\n",
    "        if os.path.exists(directory + \"/\" + player) and os.path.isdir(directory + \"/\" + player):\n",
    "            if not os.listdir(directory + \"/\" + player):\n",
    "                print(f\"No hay eventos de {directory}.\")\n",
    "            else:    \n",
    "                print(f\"Hay eventos de {directory}.\")\n",
    "                for path in os.listdir(directory + \"/\" + player):\n",
    "                    if os.path.isfile(os.path.join(directory + \"/\" + player, path)):\n",
    "                        f = open(directory + \"/\" + player + \"/\" + directory + str(initial_count) + \".json\", \"r\")\n",
    "                        content = f.read()\n",
    "                        jsondecoded = json.loads(content)\n",
    "                        dict_JSONS[directory].insert(initial_count, jsondecoded)\n",
    "                        initial_count += 1\n",
    "            print(initial_count)\n",
    "            initial_count = 0\n",
    "        else:\n",
    "            print(f\"El directorio {directory} no existe.\")\n",
    "    return dict_JSONS"
   ]
  },
  {
   "cell_type": "code",
   "execution_count": 81,
   "id": "16c06ffb",
   "metadata": {},
   "outputs": [
    {
     "name": "stdout",
     "output_type": "stream",
     "text": [
      "Hay eventos de Login.\n",
      "3\n",
      "Hay eventos de Logout.\n",
      "3\n",
      "Hay eventos de LoginZone.\n",
      "13\n",
      "Hay eventos de LogoutZone.\n",
      "12\n",
      "Hay eventos de OpenChest.\n",
      "29\n",
      "Hay eventos de OpenInv.\n",
      "34\n",
      "Hay eventos de OpenShop.\n",
      "6\n",
      "Hay eventos de OpenSkills.\n",
      "6\n",
      "Hay eventos de TutoTask.\n",
      "5\n",
      "El directorio UsePot no existe.\n",
      "Hay eventos de UseSkill.\n",
      "56\n"
     ]
    }
   ],
   "source": [
    "dict_JSONS0 = getEventsFromPlayer(\"Player0\")"
   ]
  },
  {
   "cell_type": "markdown",
   "id": "32cb2407",
   "metadata": {},
   "source": [
    "## Método para calcular el número de muertes del jugador pasado por parámetro."
   ]
  },
  {
   "cell_type": "code",
   "execution_count": 76,
   "id": "c5821609",
   "metadata": {},
   "outputs": [],
   "source": [
    "def getNumDeaths(dict_JSON):\n",
    "    cont_muertes = 0\n",
    "    for zone in dict_JSON[\"LogoutZone\"]:\n",
    "        if zone[\"zone\"] == -1:\n",
    "            cont_muertes += 1\n",
    "    return cont_muertes"
   ]
  },
  {
   "cell_type": "markdown",
   "id": "431d374d",
   "metadata": {},
   "source": [
    "## Método para calcular tiempo que tarda un jugador en pasar la primera zona"
   ]
  },
  {
   "cell_type": "code",
   "execution_count": 99,
   "id": "d70de302",
   "metadata": {},
   "outputs": [],
   "source": [
    "def getTimeZone(dict_JSON):\n",
    "    timeIni = 0\n",
    "    timeOut = 0\n",
    "    result = 0\n",
    "    for zone in dict_JSON[\"LoginZone\"]:\n",
    "        if zone[\"zone\"] == 11 and not zone[\"completed\"]:\n",
    "            timeIni = zone[\"timestamp\"]\n",
    "            date_timeIni = datetime.datetime.fromtimestamp(timeIni)\n",
    "            for zoneOut in dict_JSON[\"LogoutZone\"]:\n",
    "                if zoneOut[\"zone\"] == 11 and zoneOut[\"next\"] > -1:\n",
    "                    timeOut = zoneOut[\"timestamp\"]\n",
    "                    date_timeOut = datetime.datetime.fromtimestamp(timeOut)\n",
    "                    result = date_timeOut - date_timeIni\n",
    "                    return result"
   ]
  },
  {
   "cell_type": "code",
   "execution_count": 98,
   "id": "fd986b39",
   "metadata": {},
   "outputs": [
    {
     "data": {
      "text/plain": [
       "datetime.timedelta(seconds=105)"
      ]
     },
     "execution_count": 98,
     "metadata": {},
     "output_type": "execute_result"
    }
   ],
   "source": [
    "getTimeZone(dict_JSONS0)"
   ]
  },
  {
   "cell_type": "markdown",
   "id": "7ef176b3",
   "metadata": {},
   "source": [
    "## Método para calcular el número de veces que se abre el inventario durante la primera zona por cada jugador"
   ]
  },
  {
   "cell_type": "code",
   "execution_count": 107,
   "id": "9514e8c9",
   "metadata": {},
   "outputs": [],
   "source": [
    "def getNumOpenInv(dict_JSON):\n",
    "    cont_open = 0\n",
    "    for zone in dict_JSON[\"LoginZone\"]:\n",
    "        if zone[\"zone\"] == 11 and not zone[\"completed\"]:\n",
    "            timeIni = zone[\"timestamp\"]\n",
    "            for zoneOut in dict_JSON[\"LogoutZone\"]:\n",
    "                if zoneOut[\"zone\"]== 11 and zoneOut[\"next\"] > -1:\n",
    "                    timeOut = zoneOut[\"timestamp\"]\n",
    "                    for openInv in dict_JSON[\"OpenInv\"]:\n",
    "                        timeOpenInv=openInv[\"timestamp\"]\n",
    "                        if timeOpenInv > timeIni and timeOpenInv < timeOut :\n",
    "                            cont_open+=1\n",
    "    return cont_open"
   ]
  },
  {
   "cell_type": "markdown",
   "id": "0047672c",
   "metadata": {},
   "source": [
    "## Método para calcular si el jugador ha abierto el inventario poco después de abrir un cofre"
   ]
  },
  {
   "cell_type": "code",
   "execution_count": 103,
   "id": "e704bb5d",
   "metadata": {},
   "outputs": [],
   "source": [
    "def getNumOpenInvAfterChest(dict_JSON,timeToOpenChest):\n",
    "    for openChest in dict_JSON[\"OpenChest\"]:\n",
    "            timeIni = openChest[\"timestamp\"]\n",
    "            for openInv in dict_JSON[\"OpenInv\"]:\n",
    "                    timeOut = openInv[\"timestamp\"]\n",
    "                    date_timeIni = datetime.datetime.fromtimestamp(timeIni)\n",
    "                    date_timeOut = datetime.datetime.fromtimestamp(timeOut)\n",
    "                    if date_timeOut - date_timeIni < timeToOpenChest :\n",
    "                        return True "
   ]
  },
  {
   "cell_type": "markdown",
   "id": "4a247b41",
   "metadata": {},
   "source": [
    "## Método para calcular si un jugador ha abierto el menú de habilidades antes de pasarse la primera zona"
   ]
  },
  {
   "cell_type": "code",
   "execution_count": 101,
   "id": "9b6512b3",
   "metadata": {},
   "outputs": [],
   "source": [
    "def getOpenSkill(dict_JSON):\n",
    "    cont_open = 0\n",
    "    for zone in dict_JSON[\"LoginZone\"]:\n",
    "        if zone[\"zone\"] == 11 and not zone[\"completed\"]:\n",
    "            timeIni = zone[\"timestamp\"]\n",
    "            date_timeIni = datetime.datetime.fromtimestamp(timeIni)\n",
    "            for zoneOut in dict_JSON[\"LogoutZone\"]:\n",
    "                if zoneOut[\"zone\"] == 11 and zoneOut[\"next\"] > -1:\n",
    "                    timeOut = zoneOut[\"timestamp\"]\n",
    "                    date_timeOut = datetime.datetime.fromtimestamp(timeOut)\n",
    "                    for openSkill in dict_JSON[\"OpenSkill\"]:\n",
    "                        timeOpen = openSkill[\"timestamp\"]\n",
    "                        date_timeOpen = datetime.datetime.fromtimestamp(timeOpen)\n",
    "                        if date_timeOpen < date_timeOut and date_timeOpen > date_timeIni :\n",
    "                            return True\n",
    "                    return False"
   ]
  },
  {
   "cell_type": "markdown",
   "id": "7d887743",
   "metadata": {},
   "source": [
    "## Método para calcular si un jugador ha abierto la tienda la primera vez que vuelve al barco tras pasarse la primera zona"
   ]
  },
  {
   "cell_type": "code",
   "execution_count": null,
   "id": "5c15550d",
   "metadata": {},
   "outputs": [],
   "source": [
    "def getOpenShopAfterCompleteZone(dict_JSON):\n",
    "    for zone in dict_JSON[\"LogoutZone\"]:\n",
    "        if zone[\"zone\"] == 11 and zone[\"next\"] == 0:\n",
    "            timeIni = zone[\"timestamp\"\n",
    "            for zoneOut in dict_JSON[\"LogoutZone\"]:\n",
    "                if zoneOut[\"next\"] == 0 :\n",
    "                    timeOut = zoneOut[\"timestamp\"]\n",
    "                    for openShop in dict_JSON[\"OpenShop\"]:\n",
    "                        if openShop[\"timestamp\"] < timeOut and openShop[\"timestamp\"] > timeIni:\n",
    "                            return True"
   ]
  },
  {
   "cell_type": "markdown",
   "id": "76d7fba9",
   "metadata": {},
   "source": [
    "## Método para calcular si un jugador ha usado habilidades al pasarse la primera zona"
   ]
  },
  {
   "cell_type": "code",
   "execution_count": 108,
   "id": "2de6cfdc",
   "metadata": {},
   "outputs": [],
   "source": [
    "def getUseSkill(dict_JSON):\n",
    "    for zone in dict_JSON[\"LoginZone\"]:\n",
    "        if zone[\"zone\"] == 11 and not zone[\"completed\"]:\n",
    "            timeIni = zone[\"timestamp\"]\n",
    "            for zoneOut in dict_JSON[\"LogoutZone\"]:\n",
    "                if zoneOut[\"zone\"] == 11 and zoneOut[\"next\"] > -1:\n",
    "                    timeOut = zoneOut[\"timestamp\"]\n",
    "                    date_timeIni = datetime.datetime.fromtimestamp(timeIni) \n",
    "                    date_timeOut = datetime.datetime.fromtimestamp(timeOut)\n",
    "                    for useSkill in dict_JSON[\"UseSkill\"]:\n",
    "                        timeUse = useSkill[\"timestamp\"]\n",
    "                        date_timeUse = datetime.datetime.fromtimestamp(timeUse)\n",
    "                        if date_timeUse < date_timeOut and date_timeUse > date_timeIni :\n",
    "                            return True\n",
    "                    return False"
   ]
  },
  {
   "cell_type": "markdown",
   "id": "4fb9a717",
   "metadata": {},
   "source": [
    "## Método para calcular el número de veces que un jugador se equipa una poción durante la primera zona"
   ]
  },
  {
   "cell_type": "code",
   "execution_count": 109,
   "id": "e104c813",
   "metadata": {},
   "outputs": [],
   "source": [
    "def getEquipSkill(dict_JSON):\n",
    "    cont_equip=0\n",
    "    for zone in dict_JSON[\"LoginZone\"]:\n",
    "        if zone[\"zone\"] == 11:\n",
    "            for zoneOut in dict_JSON[\"LogoutZone\"]:\n",
    "                if zoneOut[\"zone\"] == 11 and zoneOut[\"next\"] > -1:\n",
    "                    timeIni = zone[\"timestamp\"]\n",
    "                    timeOut = zoneOut[\"timestamp\"]\n",
    "                    for equipSkill in dict_JSON[\"OpenInv\"]:\n",
    "                        timeEquip = equipSkill[\"timestamp\"]\n",
    "                        if timeEquip < timeOut and timeEquip > timeIni and equipSkill[\"equipPot\"] :\n",
    "                            cont_equip+=1\n",
    "    return cont_equip"
   ]
  },
  {
   "cell_type": "markdown",
   "id": "aff4511a",
   "metadata": {},
   "source": [
    "## Método para calcular si un jugador usa una poción durante la primera zona"
   ]
  },
  {
   "cell_type": "code",
   "execution_count": 110,
   "id": "7d0f59c6",
   "metadata": {},
   "outputs": [],
   "source": [
    "def getUsePot(dict_JSON):\n",
    "    for zone in dict_JSON[\"LoginZone\"]:\n",
    "        if zone[\"zone\"] == 11 :\n",
    "            for zoneOut in dict_JSON[\"LogoutZone\"]:\n",
    "                if zoneOut[\"zone\"] == 11 and zoneOut[\"next\"] > -1:\n",
    "                    timeOut = zoneOut[\"timestamp\"]\n",
    "                    timeIni = zone[\"timestamp\"]\n",
    "                    for usePot in dict_JSON[\"UsePot\"]:\n",
    "                        timeUse = usePot[\"timestamp\"]\n",
    "                        if timeUse < timeOut and timeUse > timeIni :\n",
    "                            return True\n",
    "                    return False "
   ]
  },
  {
   "cell_type": "markdown",
   "id": "aa7c668f",
   "metadata": {},
   "source": [
    "## Método para calcular el tiempo que tarda en cada parte del tutorial cada jugador"
   ]
  },
  {
   "cell_type": "code",
   "execution_count": 111,
   "id": "15ba222c",
   "metadata": {},
   "outputs": [],
   "source": [
    "def getTimesTutorial(dict_JSON):\n",
    "    times = []\n",
    "    i = 0\n",
    "    for tuto in dict_JSON[\"TutoTask\"]:\n",
    "        times.insert(i, tuto[\"timestamp\"])\n",
    "        i += 1\n",
    "    \n",
    "    totalTareas = dict_JSON[\"TutoTask\"].length\n",
    "    i = 0\n",
    "    fin_times = []\n",
    "    for t in times:\n",
    "        if i + 1 <= totalTareas:\n",
    "            fin_times.insert(i, times[i + 1] - times[i])\n",
    "            i += 1\n",
    "    return fin_times"
   ]
  },
  {
   "cell_type": "markdown",
   "id": "13b7d81d",
   "metadata": {},
   "source": [
    "## Método para calcular si el jugador se ha saltado el tutorial en algún punto"
   ]
  },
  {
   "cell_type": "code",
   "execution_count": 112,
   "id": "656b99b1",
   "metadata": {},
   "outputs": [],
   "source": [
    "def getTutorialOut(dict_JSON):\n",
    "    if dict_JSON[\"TutoTask\"].length == 0 or dict_JSON[\"TutoTask\"] < 5:\n",
    "        return True\n",
    "    else:\n",
    "        return False"
   ]
  },
  {
   "cell_type": "code",
   "execution_count": null,
   "id": "b4369432",
   "metadata": {},
   "outputs": [],
   "source": []
  }
 ],
 "metadata": {
  "kernelspec": {
   "display_name": "Python 3",
   "language": "python",
   "name": "python3"
  },
  "language_info": {
   "codemirror_mode": {
    "name": "ipython",
    "version": 3
   },
   "file_extension": ".py",
   "mimetype": "text/x-python",
   "name": "python",
   "nbconvert_exporter": "python",
   "pygments_lexer": "ipython3",
   "version": "3.8.8"
  }
 },
 "nbformat": 4,
 "nbformat_minor": 5
}
