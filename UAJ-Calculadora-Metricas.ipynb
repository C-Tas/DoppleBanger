{
 "cells": [
  {
   "cell_type": "markdown",
   "id": "0a3e9cb1",
   "metadata": {},
   "source": [
    "# PROGRAMA PARA CALCULAR LAS MÉTRICAS A PARTIR DE LOS JSON GENERADOS"
   ]
  },
  {
   "cell_type": "code",
   "execution_count": 6,
   "id": "8278098e",
   "metadata": {},
   "outputs": [],
   "source": [
    "import json\n",
    "import os\n",
    "import datetime "
   ]
  },
  {
   "cell_type": "code",
   "execution_count": 7,
   "id": "9241606c",
   "metadata": {},
   "outputs": [],
   "source": [
    "dirNames = ['Login', 'Logout', 'LoginZone', 'LogoutZone', 'OpenChest', 'OpenInv', 'OpenShop', 'OpenSkills', 'TutoTask', 'UsePot', 'UseSkill']"
   ]
  },
  {
   "cell_type": "markdown",
   "id": "a9a6701e",
   "metadata": {},
   "source": [
    "### Comprobación de los eventos"
   ]
  },
  {
   "cell_type": "code",
   "execution_count": 24,
   "id": "af4b4dd3",
   "metadata": {},
   "outputs": [],
   "source": [
    "def getEventsFromPlayer(player):\n",
    "    initial_count = 0\n",
    "    \n",
    "    dict_JSONS = {\n",
    "        \"Login\": [],\n",
    "        \"Logout\": [],\n",
    "        \"LoginZone\": [],\n",
    "        \"LogoutZone\": [],\n",
    "        \"OpenChest\": [],\n",
    "        \"OpenInv\": [],\n",
    "        \"OpenShop\": [],\n",
    "        \"OpenSkills\": [],\n",
    "        \"TutoTask\": [],\n",
    "        \"UsePot\": [],\n",
    "        \"UseSkill\": [],\n",
    "    }\n",
    "    \n",
    "    for directory in dirNames:\n",
    "        if os.path.exists(directory + \"/\" + player) and os.path.isdir(directory + \"/\" + player):\n",
    "            if not os.listdir(directory + \"/\" + player):\n",
    "                print(f\"No hay eventos de {directory} en el {player}\")\n",
    "            else:    \n",
    "                print(f\"Hay eventos de {directory} en el {player}.\")\n",
    "                for path in os.listdir(directory + \"/\" + player):\n",
    "                    if os.path.isfile(os.path.join(directory + \"/\" + player, path)):\n",
    "                        f = open(directory + \"/\" + player + \"/\" + directory + str(initial_count) + \".json\", \"r\")\n",
    "                        content = f.read()\n",
    "                        jsondecoded = json.loads(content)\n",
    "                        dict_JSONS[directory].insert(initial_count, jsondecoded)\n",
    "                        initial_count += 1\n",
    "            print(initial_count)\n",
    "            initial_count = 0\n",
    "        else:\n",
    "            print(f\"El directorio {directory} del {player} no existe.\")\n",
    "    return dict_JSONS"
   ]
  },
  {
   "cell_type": "markdown",
   "id": "b3cf4100",
   "metadata": {},
   "source": [
    "## VARIABLES GLOBALES"
   ]
  },
  {
   "cell_type": "code",
   "execution_count": 50,
   "id": "3ed8940d",
   "metadata": {},
   "outputs": [
    {
     "name": "stdout",
     "output_type": "stream",
     "text": [
      "Hay eventos de Login en el Player0.\n",
      "3\n",
      "Hay eventos de Logout en el Player0.\n",
      "3\n",
      "Hay eventos de LoginZone en el Player0.\n",
      "13\n",
      "Hay eventos de LogoutZone en el Player0.\n",
      "12\n",
      "Hay eventos de OpenChest en el Player0.\n",
      "29\n",
      "Hay eventos de OpenInv en el Player0.\n",
      "34\n",
      "Hay eventos de OpenShop en el Player0.\n",
      "6\n",
      "Hay eventos de OpenSkills en el Player0.\n",
      "6\n",
      "Hay eventos de TutoTask en el Player0.\n",
      "5\n",
      "El directorio UsePot del Player0 no existe.\n",
      "Hay eventos de UseSkill en el Player0.\n",
      "56\n",
      "Hay eventos de Login en el Player1.\n",
      "1\n",
      "Hay eventos de Logout en el Player1.\n",
      "1\n",
      "Hay eventos de LoginZone en el Player1.\n",
      "3\n",
      "No hay eventos de LogoutZone en el Player1\n",
      "0\n",
      "Hay eventos de OpenChest en el Player1.\n",
      "4\n",
      "El directorio OpenInv del Player1 no existe.\n",
      "El directorio OpenShop del Player1 no existe.\n",
      "El directorio OpenSkills del Player1 no existe.\n",
      "Hay eventos de TutoTask en el Player1.\n",
      "5\n",
      "El directorio UsePot del Player1 no existe.\n",
      "El directorio UseSkill del Player1 no existe.\n",
      "No hay eventos de Login en el Player2\n",
      "0\n",
      "No hay eventos de Logout en el Player2\n",
      "0\n",
      "No hay eventos de LoginZone en el Player2\n",
      "0\n",
      "No hay eventos de LogoutZone en el Player2\n",
      "0\n",
      "No hay eventos de OpenChest en el Player2\n",
      "0\n",
      "El directorio OpenInv del Player2 no existe.\n",
      "El directorio OpenShop del Player2 no existe.\n",
      "El directorio OpenSkills del Player2 no existe.\n",
      "El directorio TutoTask del Player2 no existe.\n",
      "El directorio UsePot del Player2 no existe.\n",
      "El directorio UseSkill del Player2 no existe.\n"
     ]
    }
   ],
   "source": [
    "numPlayers = 3\n",
    "\n",
    "dict_JSONS0 = getEventsFromPlayer(\"Player0\")\n",
    "dict_JSONS1 = getEventsFromPlayer(\"Player1\")\n",
    "dict_JSONS2 = getEventsFromPlayer(\"Player2\")"
   ]
  },
  {
   "cell_type": "markdown",
   "id": "87aad887",
   "metadata": {},
   "source": [
    "## Método para hacer una media"
   ]
  },
  {
   "cell_type": "code",
   "execution_count": 10,
   "id": "5146de37",
   "metadata": {},
   "outputs": [],
   "source": [
    "def getMedia(params):\n",
    "    sumatorio = 0;\n",
    "    for i in params:\n",
    "        sumatorio += i\n",
    "    return sumatorio / params.length"
   ]
  },
  {
   "cell_type": "markdown",
   "id": "3c15f13c",
   "metadata": {},
   "source": [
    "## Método para calcular un porcentaje"
   ]
  },
  {
   "cell_type": "code",
   "execution_count": 11,
   "id": "3058472c",
   "metadata": {},
   "outputs": [],
   "source": [
    "def getPorcentaje(param, total):\n",
    "    return (param / total) * 100"
   ]
  },
  {
   "cell_type": "markdown",
   "id": "7a3486a4",
   "metadata": {},
   "source": [
    "## Método para calcular el número de muertes del jugador pasado por parámetro."
   ]
  },
  {
   "cell_type": "code",
   "execution_count": 20,
   "id": "19630aa0",
   "metadata": {},
   "outputs": [],
   "source": [
    "def getNumDeaths(dict_JSON):\n",
    "    cont_muertes = 0\n",
    "    for zone in dict_JSON[\"LoginZone\"]:\n",
    "        if zone[\"zone\"] == 11 and not zone[\"completed\"]:\n",
    "            for zoneOut in dict_JSON[\"LogoutZone\"]:\n",
    "                if zoneOut[\"zone\"] == -1:\n",
    "                    cont_muertes += 1\n",
    "                else:\n",
    "                    return cont_muertes\n",
    "    return 0"
   ]
  },
  {
   "cell_type": "markdown",
   "id": "dc695eae",
   "metadata": {},
   "source": [
    "### Realizamos el cálculo de la métrica: Media de número de muertes antes de completar la primera zona por primera vez (se compara entre las personas que han hecho el tutorial completo y las que no)"
   ]
  },
  {
   "cell_type": "code",
   "execution_count": 51,
   "id": "b42d6014",
   "metadata": {},
   "outputs": [
    {
     "name": "stdout",
     "output_type": "stream",
     "text": [
      "\n",
      "La media de muertes de los jugadores que han hecho el tutorial es de: 0.0\n",
      "La media de muertes de los jugadores que NO han hecho el tutorial es de: 0.0\n"
     ]
    }
   ],
   "source": [
    "# Llamamos al método que nos devuelve los tiempos del tutorial para saber quienes han hecho el tutorial y quien no\n",
    "array0 = getTimesTutorial(dict_JSONS0)\n",
    "array1 = getTimesTutorial(dict_JSONS1)\n",
    "array2 = getTimesTutorial(dict_JSONS2)\n",
    "\n",
    "mediaSiTuto = 0\n",
    "mediaNoTuto = 0\n",
    "if len(array0) == 5:\n",
    "    mediaSiTuto += getNumDeaths(dict_JSONS0)\n",
    "else:\n",
    "    mediaNoTuto += getNumDeaths(dict_JSONS0)\n",
    "if len(array1) == 5:\n",
    "    mediaSiTuto += getNumDeaths(dict_JSONS1)\n",
    "else:\n",
    "    mediaNoTuto += getNumDeaths(dict_JSONS1)\n",
    "if len(array2)== 5:\n",
    "    mediaSiTuto += getNumDeaths(dict_JSONS2)\n",
    "else:\n",
    "    mediaNoTuto += getNumDeaths(dict_JSONS2)\n",
    "\n",
    "mediaSiTuto = mediaSiTuto / numPlayers\n",
    "mediaNoTuto = mediaNoTuto / numPlayers\n",
    "\n",
    "print(\"\\nLa media de muertes de los jugadores que han hecho el tutorial es de:\", mediaSiTuto)\n",
    "print(\"La media de muertes de los jugadores que NO han hecho el tutorial es de:\", mediaNoTuto)"
   ]
  },
  {
   "cell_type": "markdown",
   "id": "495f6dab",
   "metadata": {},
   "source": [
    "## Método para calcular tiempo que tarda un jugador en pasar la primera zona"
   ]
  },
  {
   "cell_type": "code",
   "execution_count": 35,
   "id": "ff40746a",
   "metadata": {},
   "outputs": [],
   "source": [
    "def getTimeZone(dict_JSON):\n",
    "    timeIni = 0\n",
    "    timeOut = 0\n",
    "    result = 0\n",
    "    for zone in dict_JSON[\"LoginZone\"]:\n",
    "        if zone[\"zone\"] == 11 and not zone[\"completed\"]:\n",
    "            timeIni = zone[\"timestamp\"]\n",
    "            date_timeIni = datetime.datetime.fromtimestamp(timeIni)\n",
    "            for zoneOut in dict_JSON[\"LogoutZone\"]:\n",
    "                if zoneOut[\"zone\"] == 11 and zoneOut[\"next\"] > -1:\n",
    "                    timeOut = zoneOut[\"timestamp\"]\n",
    "                    date_timeOut = datetime.datetime.fromtimestamp(timeOut)\n",
    "                    result = date_timeOut - date_timeIni\n",
    "                    return result\n",
    "    return datetime.timedelta(seconds=0)"
   ]
  },
  {
   "cell_type": "markdown",
   "id": "b33b5a66",
   "metadata": {},
   "source": [
    "### Realizamos el cálculo de la métrica: Media de tiempo que tardan los jugadores en superar la primera primera zona del juego (se compara entre las personas que han hecho el tutorial y las que no)"
   ]
  },
  {
   "cell_type": "code",
   "execution_count": 55,
   "id": "86b9a925",
   "metadata": {},
   "outputs": [
    {
     "name": "stdout",
     "output_type": "stream",
     "text": [
      "\n",
      "La media de tiempo 'segundos' que tardan los jugadores en superar la primera zona, si han hecho el tutorial es de: 52.5\n",
      "La media de tiempo 'segundos' que tardan los jugadores en superar la primera zona, si NO han hecho el tutorial es de: 0.0\n"
     ]
    }
   ],
   "source": [
    "mediaSiTuto = 0\n",
    "mediaNoTuto = 0\n",
    "\n",
    "cont_jugadores_tuto = 0\n",
    "\n",
    "if len(array0) == 5:\n",
    "    mediaSiTuto += getTimeZone(dict_JSONS0).total_seconds()\n",
    "    cont_jugadores_tuto += 1\n",
    "else:\n",
    "    mediaNoTuto += getTimeZone(dict_JSONS0).total_seconds()\n",
    "if len(array1) == 5:\n",
    "    mediaSiTuto += getTimeZone(dict_JSONS1).total_seconds()\n",
    "    cont_jugadores_tuto += 1\n",
    "else:\n",
    "    mediaNoTuto += getTimeZone(dict_JSONS1).total_seconds()\n",
    "if len(array2)== 5:\n",
    "    mediaSiTuto += getTimeZone(dict_JSONS2).total_seconds()\n",
    "    cont_jugadores_tuto += 1\n",
    "else:\n",
    "    mediaNoTuto += getTimeZone(dict_JSONS2).total_seconds()\n",
    "    \n",
    "mediaSiTuto = mediaSiTuto / cont_jugadores_tuto\n",
    "mediaNoTuto = mediaNoTuto / (numPlayers - cont_jugadores_tuto)\n",
    "\n",
    "print(\"\\nLa media de tiempo 'segundos' que tardan los jugadores en superar la primera zona, si han hecho el tutorial es de:\", mediaSiTuto)\n",
    "print(\"La media de tiempo 'segundos' que tardan los jugadores en superar la primera zona, si NO han hecho el tutorial es de:\", mediaNoTuto)"
   ]
  },
  {
   "cell_type": "markdown",
   "id": "c23c48e6",
   "metadata": {},
   "source": [
    "## Método para calcular el número de veces que se abre el inventario durante la primera zona por cada jugador"
   ]
  },
  {
   "cell_type": "code",
   "execution_count": 107,
   "id": "b6bb16aa",
   "metadata": {},
   "outputs": [],
   "source": [
    "def getNumOpenInv(dict_JSON):\n",
    "    cont_open = 0\n",
    "    for zone in dict_JSON[\"LoginZone\"]:\n",
    "        if zone[\"zone\"] == 11 and not zone[\"completed\"]:\n",
    "            timeIni = zone[\"timestamp\"]\n",
    "            for zoneOut in dict_JSON[\"LogoutZone\"]:\n",
    "                if zoneOut[\"zone\"]== 11 and zoneOut[\"next\"] > -1:\n",
    "                    timeOut = zoneOut[\"timestamp\"]\n",
    "                    for openInv in dict_JSON[\"OpenInv\"]:\n",
    "                        timeOpenInv=openInv[\"timestamp\"]\n",
    "                        if timeOpenInv > timeIni and timeOpenInv < timeOut :\n",
    "                            cont_open+=1\n",
    "    return cont_open"
   ]
  },
  {
   "cell_type": "markdown",
   "id": "855a6407",
   "metadata": {},
   "source": [
    "## Método para calcular si el jugador ha abierto el inventario poco después de abrir un cofre"
   ]
  },
  {
   "cell_type": "code",
   "execution_count": 103,
   "id": "e7a8d225",
   "metadata": {},
   "outputs": [],
   "source": [
    "def getNumOpenInvAfterChest(dict_JSON,timeToOpenChest):\n",
    "    for openChest in dict_JSON[\"OpenChest\"]:\n",
    "            timeIni = openChest[\"timestamp\"]\n",
    "            for openInv in dict_JSON[\"OpenInv\"]:\n",
    "                    timeOut = openInv[\"timestamp\"]\n",
    "                    date_timeIni = datetime.datetime.fromtimestamp(timeIni)\n",
    "                    date_timeOut = datetime.datetime.fromtimestamp(timeOut)\n",
    "                    if date_timeOut - date_timeIni < timeToOpenChest :\n",
    "                        return True "
   ]
  },
  {
   "cell_type": "markdown",
   "id": "a9843ea4",
   "metadata": {},
   "source": [
    "## Método para calcular si un jugador ha abierto el menú de habilidades antes de pasarse la primera zona"
   ]
  },
  {
   "cell_type": "code",
   "execution_count": 101,
   "id": "8e92cf10",
   "metadata": {},
   "outputs": [],
   "source": [
    "def getOpenSkill(dict_JSON):\n",
    "    cont_open = 0\n",
    "    for zone in dict_JSON[\"LoginZone\"]:\n",
    "        if zone[\"zone\"] == 11 and not zone[\"completed\"]:\n",
    "            timeIni = zone[\"timestamp\"]\n",
    "            date_timeIni = datetime.datetime.fromtimestamp(timeIni)\n",
    "            for zoneOut in dict_JSON[\"LogoutZone\"]:\n",
    "                if zoneOut[\"zone\"] == 11 and zoneOut[\"next\"] > -1:\n",
    "                    timeOut = zoneOut[\"timestamp\"]\n",
    "                    date_timeOut = datetime.datetime.fromtimestamp(timeOut)\n",
    "                    for openSkill in dict_JSON[\"OpenSkill\"]:\n",
    "                        timeOpen = openSkill[\"timestamp\"]\n",
    "                        date_timeOpen = datetime.datetime.fromtimestamp(timeOpen)\n",
    "                        if date_timeOpen < date_timeOut and date_timeOpen > date_timeIni :\n",
    "                            return True\n",
    "                    return False"
   ]
  },
  {
   "cell_type": "markdown",
   "id": "13bfd607",
   "metadata": {},
   "source": [
    "## Método para calcular si un jugador ha abierto la tienda la primera vez que vuelve al barco tras pasarse la primera zona"
   ]
  },
  {
   "cell_type": "code",
   "execution_count": null,
   "id": "3d009de0",
   "metadata": {},
   "outputs": [],
   "source": [
    "def getOpenShopAfterCompleteZone(dict_JSON):\n",
    "    for zone in dict_JSON[\"LogoutZone\"]:\n",
    "        if zone[\"zone\"] == 11 and zone[\"next\"] == 0:\n",
    "            timeIni = zone[\"timestamp\"\n",
    "            for zoneOut in dict_JSON[\"LogoutZone\"]:\n",
    "                if zoneOut[\"next\"] == 0 :\n",
    "                    timeOut = zoneOut[\"timestamp\"]\n",
    "                    for openShop in dict_JSON[\"OpenShop\"]:\n",
    "                        if openShop[\"timestamp\"] < timeOut and openShop[\"timestamp\"] > timeIni:\n",
    "                            return True"
   ]
  },
  {
   "cell_type": "markdown",
   "id": "9b73e85e",
   "metadata": {},
   "source": [
    "## Método para calcular si un jugador ha usado habilidades al pasarse la primera zona"
   ]
  },
  {
   "cell_type": "code",
   "execution_count": 108,
   "id": "26e3bf41",
   "metadata": {},
   "outputs": [],
   "source": [
    "def getUseSkill(dict_JSON):\n",
    "    for zone in dict_JSON[\"LoginZone\"]:\n",
    "        if zone[\"zone\"] == 11 and not zone[\"completed\"]:\n",
    "            timeIni = zone[\"timestamp\"]\n",
    "            for zoneOut in dict_JSON[\"LogoutZone\"]:\n",
    "                if zoneOut[\"zone\"] == 11 and zoneOut[\"next\"] > -1:\n",
    "                    timeOut = zoneOut[\"timestamp\"]\n",
    "                    date_timeIni = datetime.datetime.fromtimestamp(timeIni) \n",
    "                    date_timeOut = datetime.datetime.fromtimestamp(timeOut)\n",
    "                    for useSkill in dict_JSON[\"UseSkill\"]:\n",
    "                        timeUse = useSkill[\"timestamp\"]\n",
    "                        date_timeUse = datetime.datetime.fromtimestamp(timeUse)\n",
    "                        if date_timeUse < date_timeOut and date_timeUse > date_timeIni :\n",
    "                            return True\n",
    "                    return False"
   ]
  },
  {
   "cell_type": "markdown",
   "id": "f289e642",
   "metadata": {},
   "source": [
    "## Método para calcular el número de veces que un jugador se equipa una poción durante la primera zona"
   ]
  },
  {
   "cell_type": "code",
   "execution_count": 109,
   "id": "ca888f07",
   "metadata": {},
   "outputs": [],
   "source": [
    "def getEquipSkill(dict_JSON):\n",
    "    cont_equip=0\n",
    "    for zone in dict_JSON[\"LoginZone\"]:\n",
    "        if zone[\"zone\"] == 11:\n",
    "            for zoneOut in dict_JSON[\"LogoutZone\"]:\n",
    "                if zoneOut[\"zone\"] == 11 and zoneOut[\"next\"] > -1:\n",
    "                    timeIni = zone[\"timestamp\"]\n",
    "                    timeOut = zoneOut[\"timestamp\"]\n",
    "                    for equipSkill in dict_JSON[\"OpenInv\"]:\n",
    "                        timeEquip = equipSkill[\"timestamp\"]\n",
    "                        if timeEquip < timeOut and timeEquip > timeIni and equipSkill[\"equipPot\"] :\n",
    "                            cont_equip+=1\n",
    "    return cont_equip"
   ]
  },
  {
   "cell_type": "markdown",
   "id": "33fcdd7a",
   "metadata": {},
   "source": [
    "## Método para calcular si un jugador usa una poción durante la primera zona"
   ]
  },
  {
   "cell_type": "code",
   "execution_count": 110,
   "id": "cd8c020d",
   "metadata": {},
   "outputs": [],
   "source": [
    "def getUsePot(dict_JSON):\n",
    "    for zone in dict_JSON[\"LoginZone\"]:\n",
    "        if zone[\"zone\"] == 11 :\n",
    "            for zoneOut in dict_JSON[\"LogoutZone\"]:\n",
    "                if zoneOut[\"zone\"] == 11 and zoneOut[\"next\"] > -1:\n",
    "                    timeOut = zoneOut[\"timestamp\"]\n",
    "                    timeIni = zone[\"timestamp\"]\n",
    "                    for usePot in dict_JSON[\"UsePot\"]:\n",
    "                        timeUse = usePot[\"timestamp\"]\n",
    "                        if timeUse < timeOut and timeUse > timeIni :\n",
    "                            return True\n",
    "                    return False "
   ]
  },
  {
   "cell_type": "markdown",
   "id": "42536f4c",
   "metadata": {},
   "source": [
    "## Método para calcular el tiempo que tarda en cada parte del tutorial cada jugador"
   ]
  },
  {
   "cell_type": "code",
   "execution_count": 46,
   "id": "79b16436",
   "metadata": {},
   "outputs": [],
   "source": [
    "def getTimesTutorial(dict_JSON):\n",
    "    times = []\n",
    "    i = 0\n",
    "    for tuto in dict_JSON[\"TutoTask\"]:\n",
    "        times.insert(i, tuto[\"timeOut\"])\n",
    "        i += 1\n",
    "    return times"
   ]
  },
  {
   "cell_type": "markdown",
   "id": "e6330f0e",
   "metadata": {},
   "source": [
    "## Método para calcular si el jugador se ha saltado el tutorial en algún punto"
   ]
  },
  {
   "cell_type": "code",
   "execution_count": 2,
   "id": "c7dd2c71",
   "metadata": {},
   "outputs": [],
   "source": [
    "def getTutorialOut(dict_JSON):\n",
    "    if dict_JSON[\"TutoTask\"].length == 0 or dict_JSON[\"TutoTask\"] < 5:\n",
    "        return True\n",
    "    else:\n",
    "        return False"
   ]
  },
  {
   "cell_type": "code",
   "execution_count": null,
   "id": "a2d54285",
   "metadata": {},
   "outputs": [],
   "source": []
  }
 ],
 "metadata": {
  "kernelspec": {
   "display_name": "Python 3",
   "language": "python",
   "name": "python3"
  },
  "language_info": {
   "codemirror_mode": {
    "name": "ipython",
    "version": 3
   },
   "file_extension": ".py",
   "mimetype": "text/x-python",
   "name": "python",
   "nbconvert_exporter": "python",
   "pygments_lexer": "ipython3",
   "version": "3.8.8"
  }
 },
 "nbformat": 4,
 "nbformat_minor": 5
}
